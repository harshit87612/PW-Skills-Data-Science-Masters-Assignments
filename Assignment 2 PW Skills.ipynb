{
 "cells": [
  {
   "cell_type": "markdown",
   "id": "446c1660",
   "metadata": {},
   "source": [
    "# Assignment dated 03-02-2023"
   ]
  },
  {
   "cell_type": "markdown",
   "id": "2487b0d0",
   "metadata": {},
   "source": [
    "## Q1. Which keyword is used to create a function? Create a function to return a list of odd numbers in the range of 1 to 25.\n",
    "\n",
    "'def' keyword is used to create a function in Python. \n",
    "\n",
    "#function to return a list of odd numbers in the range of 1 to 25\n",
    "\n",
    "def range_25():\n",
    "\n",
    "    l=[]\n",
    "    \n",
    "    for i in range(1,26):\n",
    "    \n",
    "        if i%2!=0:\n",
    "        \n",
    "            l.append(i)\n",
    "            \n",
    "    return l"
   ]
  },
  {
   "cell_type": "markdown",
   "id": "5ee99b3d",
   "metadata": {},
   "source": [
    "## Q2. Why *args and **kwargs is used in some functions? Create a function each for *args and **kwargs to demonstrate their use.\n",
    "\n",
    "In Python functions, *args is utilized to input a collection of values as a tuple, while **kwargs enables the input of a dictionary into the function.\n",
    "\n",
    "#function for *args\n",
    "\n",
    "def multi_tup(*args):\n",
    "\n",
    "    return args*2\n",
    "\n",
    "multi_tup(1,2,3)\n",
    "\n",
    "Output: (1, 2, 3, 1, 2, 3)\n",
    "\n",
    "#function for **kwargs \n",
    "\n",
    "def multi_dict(**kwargs):\n",
    "\n",
    "    for i in kwargs.keys():\n",
    "    \n",
    "        if kwargs[i]%2==0:\n",
    "        \n",
    "            yield i\n",
    "            \n",
    "for i in multi_dict(a=6,b=8,c=3):\n",
    "\n",
    "    print(i,end=\" \")\n",
    "\n",
    "Output: a b"
   ]
  },
  {
   "cell_type": "markdown",
   "id": "6c54af0f",
   "metadata": {},
   "source": [
    "## Q3. What is an iterator in python? Name the method used to initialise the iterator object and the method used for iteration. Use these methods to print the first five elements of the given list [2, 4, 6, 8, 10, 12, 14, 16,18, 20].\n",
    "\n",
    "An interator is an object that can be iterated upon, i.e. we can traverse through its values. It is used to represent a stream of data or a sequence of elements.\n",
    "\n",
    "iter() method is used to initialise the iterator object and next() method is used for iteration.\n",
    "\n",
    "L=[2,4,6,8,10,12,14,16,18,20]\n",
    "\n",
    "L_iter=iter(L)\n",
    "\n",
    "for i in range(5):\n",
    "\n",
    "    print(next(L_iter))"
   ]
  },
  {
   "cell_type": "markdown",
   "id": "8439ef99",
   "metadata": {},
   "source": [
    "## Q4. What is a generator function in python? Why yield keyword is used? Give an example of a generator function.\n",
    "\n",
    "A generator function is a special type of function which returns an iterator object with a sequence of values. \n",
    "\n",
    "yield keyword is used to return a generator iterator object.\n",
    "\n",
    "Example of a generator function:-\n",
    "\n",
    "def even(n): #function to determine first n even numbers\n",
    "\n",
    "    count=0\n",
    "    \n",
    "    a=1\n",
    "    \n",
    "    while count!=n:\n",
    "    \n",
    "        even=False\n",
    "        \n",
    "        if a%2==0:\n",
    "        \n",
    "            even=True\n",
    "            \n",
    "            yield a\n",
    "            \n",
    "            count+=1\n",
    "            \n",
    "        a+=1\n",
    "        \n",
    "for i in even(10):\n",
    "\n",
    "    print(i,end=\" \")        "
   ]
  },
  {
   "cell_type": "markdown",
   "id": "c058bb20",
   "metadata": {},
   "source": [
    "## Q5. Create a generator function for prime numbers less than 1000. Use the next() method to print the first 20 prime numbers.\n",
    "\n",
    "def prime(n):\n",
    "\n",
    "    prime=True\n",
    "    \n",
    "    for i in range(2,n):\n",
    "    \n",
    "        if n%i==0:\n",
    "        \n",
    "            prime=False\n",
    "            \n",
    "            break\n",
    "            \n",
    "    return prime if n>1 else False\n",
    "    \n",
    "def prime_n():\n",
    "\n",
    "    for i in range(2,1000):\n",
    "    \n",
    "        if prime(i):\n",
    "        \n",
    "            yield i\n",
    "            \n",
    "prime_less_1000=prime_n()\n",
    "\n",
    "for i in range(20):\n",
    "\n",
    "    print(next(prime_less_1000),end=\" \")\n"
   ]
  }
 ],
 "metadata": {
  "kernelspec": {
   "display_name": "Python 3 (ipykernel)",
   "language": "python",
   "name": "python3"
  },
  "language_info": {
   "codemirror_mode": {
    "name": "ipython",
    "version": 3
   },
   "file_extension": ".py",
   "mimetype": "text/x-python",
   "name": "python",
   "nbconvert_exporter": "python",
   "pygments_lexer": "ipython3",
   "version": "3.10.10"
  }
 },
 "nbformat": 4,
 "nbformat_minor": 5
}
