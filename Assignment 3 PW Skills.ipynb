{
 "cells": [
  {
   "cell_type": "markdown",
   "id": "21722b5a",
   "metadata": {},
   "source": [
    "## Assignment dated 04-02-2023"
   ]
  },
  {
   "cell_type": "markdown",
   "id": "5fec194d",
   "metadata": {},
   "source": [
    "## Q1. Create a python program to sort the given list of tuples based on integer value using a lambda function.\n",
    "[('Sachin Tendulkar', 34357), ('Ricky Ponting', 27483), ('Jack Kallis', 25534), ('Virat Kohli', 24936)]\n",
    "\n",
    "Program:-\n",
    "\n",
    "L=[('Sachin Tendulkar', 34357), ('Ricky Ponting', 27483), ('Jack Kallis', 25534), ('Virat Kohli', 24936)]\n",
    "\n",
    "L=[('Sachin Tendulkar', 34357), ('Ricky Ponting', 27483), ('Jack Kallis', 25534), ('Virat Kohli', 24936)]\n",
    "\n",
    "L=sorted(L,key=lambda x: x[1])"
   ]
  },
  {
   "cell_type": "markdown",
   "id": "f2554ab3",
   "metadata": {},
   "source": [
    "## Q2. Write a Python Program to find the squares of all the numbers in the given list of integers using lambda and map functions. [1, 2, 3, 4, 5, 6, 7, 8, 9, 10]\n",
    "\n",
    "L=[1, 2, 3, 4, 5, 6, 7, 8, 9, 10]\n",
    "\n",
    "sq_L=list(map(lambda x:x**2,L))"
   ]
  },
  {
   "cell_type": "markdown",
   "id": "889511d5",
   "metadata": {},
   "source": [
    "## Q3. Write a python program to convert the given list of integers into a tuple of strings. Use map and lambda functions\n",
    "\n",
    "Given list: [1, 2, 3, 4, 5, 6, 7, 8, 9, 10]\n",
    "\n",
    "Expected output: ('1', '2', '3', '4', '5', '6', '7', '8', '9', '10')\n",
    "\n",
    "Program:-\n",
    "\n",
    "L=[1, 2, 3, 4, 5, 6, 7, 8, 9, 10]\n",
    "\n",
    "tup_L=tuple(map(lambda x: str(x),L))"
   ]
  },
  {
   "cell_type": "markdown",
   "id": "6b2b4953",
   "metadata": {},
   "source": [
    "## Q4. Write a python program using reduce function to compute the product of a list containing numbers from 1 to 25.\n",
    "\n",
    "from functools import reduce\n",
    "\n",
    "L=[i for i in range(1,26)]\n",
    "\n",
    "prod_L=reduce(lambda x,y:x*y,L)\n",
    "\n",
    "print(prod_L)"
   ]
  },
  {
   "cell_type": "markdown",
   "id": "10c55fc6",
   "metadata": {},
   "source": [
    "## Q5. Write a python program to filter the numbers in a given list that are divisible by 2 and 3 using the filter function.\n",
    "\n",
    "Given: [2, 3, 6, 9, 27, 60, 90, 120, 55, 46]\n",
    "\n",
    "L=[2, 3, 6, 9, 27, 60, 90, 120, 55, 46]\n",
    "\n",
    "L_filtered=list(filter(lambda x:x%2==0 or x%3==0,L))\n",
    "\n",
    "print(L_filtered)"
   ]
  },
  {
   "cell_type": "markdown",
   "id": "baab35f0",
   "metadata": {},
   "source": [
    "## Q6. Write a python program to find palindromes in the given list of strings using lambda and filter function.\n",
    "\n",
    "Given: ['python', 'php', 'aba', 'radar', 'level']\n",
    "\n",
    "L=['python', 'php', 'aba', 'radar', 'level']\n",
    "\n",
    "L_filtered=list(filter(lambda x: x[::-1]==x,L))\n",
    "\n",
    "print(L_filtered)"
   ]
  }
 ],
 "metadata": {
  "kernelspec": {
   "display_name": "Python 3 (ipykernel)",
   "language": "python",
   "name": "python3"
  },
  "language_info": {
   "codemirror_mode": {
    "name": "ipython",
    "version": 3
   },
   "file_extension": ".py",
   "mimetype": "text/x-python",
   "name": "python",
   "nbconvert_exporter": "python",
   "pygments_lexer": "ipython3",
   "version": "3.10.10"
  }
 },
 "nbformat": 4,
 "nbformat_minor": 5
}
