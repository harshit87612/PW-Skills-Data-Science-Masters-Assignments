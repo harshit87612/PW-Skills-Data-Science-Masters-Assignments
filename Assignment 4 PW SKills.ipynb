{
 "cells": [
  {
   "cell_type": "markdown",
   "id": "bb4589ac",
   "metadata": {},
   "source": [
    "## Assignment dated 05-02-2023"
   ]
  },
  {
   "cell_type": "markdown",
   "id": "3d013021",
   "metadata": {},
   "source": [
    "### Q1. Explain Class and Object with respect to Object-Oriented Programming. Give a suitable example.\n",
    "\n",
    "Class is a blueprint which defines properties and behaviour of similar objects. Object is an instance of the class. \n",
    "\n",
    "For example, in real life , car is a class whereas Maruti Brezza is an object of the class. The car has attributes, such as weight and color, and methods, such as drive and brake."
   ]
  },
  {
   "cell_type": "markdown",
   "id": "43788674",
   "metadata": {},
   "source": [
    "### Q2. Name the four pillars of OOPs.\n",
    "\n",
    "The four pillars of OOPs are Abstraction,Encapsulation,Inheritance and Polymorphism"
   ]
  },
  {
   "cell_type": "markdown",
   "id": "084ad582",
   "metadata": {},
   "source": [
    "### Q3. Explain why the __init__() function is used. Give a suitable example.\n",
    "\n",
    "The _ _init_ _() function is a constructor in Python. It is used to initialize an object's attributes.\n",
    "\n",
    "For example:-\n",
    "\n",
    "class pokemon():\n",
    "\n",
    "    def __init__(self,Colour,Type): #__init__() function\n",
    "    \n",
    "        self.Colour=Colour\n",
    "        \n",
    "        self.Type=Type\n",
    "        \n",
    "pikachu=pokemon(\"yellow\",\"electric\")"
   ]
  },
  {
   "cell_type": "markdown",
   "id": "572ab99f",
   "metadata": {},
   "source": [
    "### Q4. Why self is used in OOPs?\n",
    "\n",
    "The self parameter is a reference to the current instance of the class. It is used to access variables that belongs to the class."
   ]
  },
  {
   "cell_type": "markdown",
   "id": "a5dd740d",
   "metadata": {},
   "source": [
    "### Q5. What is inheritance? Give an example for each type of inheritance.\n",
    "\n",
    "Inheritance is the capability of one class to derive or inherit the properties from another class. "
   ]
  },
  {
   "cell_type": "code",
   "execution_count": 11,
   "id": "ea895e37",
   "metadata": {},
   "outputs": [
    {
     "name": "stdout",
     "output_type": "stream",
     "text": [
      "parent 1\n"
     ]
    }
   ],
   "source": [
    "#Examples of inheritance\n",
    "#Single inheritance\n",
    "\n",
    "class Parent1:\n",
    "    def __init__(self,a,b):\n",
    "        self.a=a\n",
    "        self.b=b\n",
    "    def name(self):\n",
    "        print(\"parent 1\")\n",
    "class Child(Parent1):\n",
    "    pass\n",
    "ch=Child(1,2)\n",
    "ch.name()\n",
    "    "
   ]
  },
  {
   "cell_type": "code",
   "execution_count": 12,
   "id": "0292e544",
   "metadata": {},
   "outputs": [
    {
     "name": "stdout",
     "output_type": "stream",
     "text": [
      "parent 1\n",
      "parent 2\n"
     ]
    }
   ],
   "source": [
    "#Multiple inheritance\n",
    "class Parent1:\n",
    "    def __init__(self,a,b):\n",
    "        self.a=a\n",
    "        self.b=b\n",
    "    def name(self):\n",
    "        print(\"parent 1\")\n",
    "class Parent2:\n",
    "    def __init__(self,c,d):\n",
    "        self.c=c\n",
    "        self.d=d\n",
    "    def call(self):\n",
    "        print(\"parent 2\")\n",
    "class Child(Parent1,Parent2):\n",
    "    pass\n",
    "ch=Child(1,2)\n",
    "ch.name()\n",
    "ch.call()"
   ]
  },
  {
   "cell_type": "code",
   "execution_count": 13,
   "id": "911cb3ac",
   "metadata": {},
   "outputs": [
    {
     "name": "stdout",
     "output_type": "stream",
     "text": [
      "parent 1\n",
      "parent 2\n"
     ]
    }
   ],
   "source": [
    "#Multilevel Inheritance \n",
    "class Parent1:\n",
    "    def __init__(self,a,b):\n",
    "        self.a=a\n",
    "        self.b=b\n",
    "    def name(self):\n",
    "        print(\"parent 1\")\n",
    "class Parent2(Parent1):\n",
    "    def call(self):\n",
    "        print(\"parent 2\")\n",
    "class Child(Parent2):\n",
    "    pass\n",
    "ch=Child(1,2)\n",
    "ch.name()\n",
    "ch.call()"
   ]
  },
  {
   "cell_type": "code",
   "execution_count": 14,
   "id": "dcce7959",
   "metadata": {},
   "outputs": [
    {
     "name": "stdout",
     "output_type": "stream",
     "text": [
      "parent 1\n",
      "parent 1\n"
     ]
    }
   ],
   "source": [
    "#Hierarchial inheritance\n",
    "class Parent1:\n",
    "    def __init__(self,a,b):\n",
    "        self.a=a\n",
    "        self.b=b\n",
    "    def name(self):\n",
    "        print(\"parent 1\")\n",
    "class Child1(Parent1):\n",
    "    def call(self):\n",
    "        print(\"parent 2\")\n",
    "class Child2(Parent1):\n",
    "    pass\n",
    "ch1=Child1(1,2)\n",
    "ch2=Child2(3,4)\n",
    "ch1.name()\n",
    "ch2.name()"
   ]
  },
  {
   "cell_type": "code",
   "execution_count": 15,
   "id": "76bec9d3",
   "metadata": {},
   "outputs": [
    {
     "name": "stdout",
     "output_type": "stream",
     "text": [
      "This function is in school.\n",
      "This function is in student 1. \n"
     ]
    }
   ],
   "source": [
    "#Hybrid inheritance\n",
    "\n",
    "class School:\n",
    "    def func1(self):\n",
    "        print(\"This function is in school.\")\n",
    " \n",
    " \n",
    "class Student1(School):\n",
    "    def func2(self):\n",
    "        print(\"This function is in student 1. \")\n",
    " \n",
    " \n",
    "class Student2(School):\n",
    "    def func3(self):\n",
    "        print(\"This function is in student 2.\")\n",
    " \n",
    " \n",
    "class Student3(Student1, School):\n",
    "    def func4(self):\n",
    "        print(\"This function is in student 3.\")\n",
    " \n",
    " \n",
    "object = Student3()\n",
    "object.func1()\n",
    "object.func2()"
   ]
  }
 ],
 "metadata": {
  "kernelspec": {
   "display_name": "Python 3 (ipykernel)",
   "language": "python",
   "name": "python3"
  },
  "language_info": {
   "codemirror_mode": {
    "name": "ipython",
    "version": 3
   },
   "file_extension": ".py",
   "mimetype": "text/x-python",
   "name": "python",
   "nbconvert_exporter": "python",
   "pygments_lexer": "ipython3",
   "version": "3.10.10"
  }
 },
 "nbformat": 4,
 "nbformat_minor": 5
}
