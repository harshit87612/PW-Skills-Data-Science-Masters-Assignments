{
 "cells": [
  {
   "cell_type": "markdown",
   "id": "0af801fe",
   "metadata": {},
   "source": [
    "# Assignment dated 02-02-2023"
   ]
  },
  {
   "cell_type": "markdown",
   "id": "6b29b168",
   "metadata": {},
   "source": [
    "## Q1. What are the characteristics of the tuples? Is tuple immutable?\n",
    "\n",
    "Tuples is one of the  built in data type that stores elements belonging to different data types. They allow indexing. Yes, tuple is an immutable data type."
   ]
  },
  {
   "cell_type": "markdown",
   "id": "0c2f2082",
   "metadata": {},
   "source": [
    "## Q2. What are the two tuple methods in python? Give an example of each method. Give a reason why tuples have only two in-built methods as compared to Lists.\n",
    "\n",
    "### The two tuple methods in python are count and index. \n",
    "### Example of count:- \n",
    "### tup=(1,2,3)\n",
    "### tup.count(1)  \n",
    "### Example of index:-\n",
    "### tup.index(1)\n",
    "### One possible reason is tuples are immutable, you cannot change their contents after they are created. The length of  tuples is also fixed. They remain the same length throughout the lifecycle of the program.\n",
    "\n"
   ]
  },
  {
   "cell_type": "markdown",
   "id": "4a1d500a",
   "metadata": {},
   "source": [
    "## Q3 Which collection datatypes in python do not allow duplicate items? Write a code using a set to remove duplicates from the given list.\n",
    "\n",
    "### List = [1, 1, 1, 2, 1, 3, 1, 4, 2, 1, 2, 2, 2, 3, 2, 4, 3, 1, 3, 2, 3, 3, 3, 4, 4, 1, 4, 2, 4, 3, 4, 4]\n",
    "\n",
    "### Sets do not allow duplicate items in Python.\n",
    "#### List=[1, 1, 1, 2, 1, 3, 1, 4, 2, 1, 2, 2, 2, 3, 2, 4, 3, 1, 3, 2, 3, 3, 3, 4, 4, 1, 4, 2, 4, 3, 4, 4]\n",
    "####  S = set(List)\n",
    "#### List=list(S)"
   ]
  },
  {
   "cell_type": "markdown",
   "id": "a1570efe",
   "metadata": {},
   "source": [
    "## Q4. Explain the difference between the union() and update() methods for a set. Give an example of each method.\n",
    "\n",
    "union() method returns the set union of two sets or iterable. \n",
    "\n",
    "Example:-\n",
    "set1={1,2,3}\n",
    "set2={2,4,5}\n",
    "set1.union(set2)\n",
    "\n",
    "update() method updates the current set by inserting items from another set or iterable. \n",
    "\n",
    "Example:-\n",
    "set1.update([1,2,3,4,5])\n",
    "\n",
    "The main difference between the union() and update() method is that union() method returns a new set which is the set union of two sets whereas update method() updates the current set.\n"
   ]
  },
  {
   "cell_type": "markdown",
   "id": "700297e8",
   "metadata": {},
   "source": [
    "## Q5. What is a dictionary? Give an example. Also, state whether a dictionary is ordered or unordered.\n",
    "\n",
    "A dictionary is a data type in python containing elements in the form of key-value pairs. Each value of a dictionary can be retrieved by its key.\n",
    "\n",
    "Ex: dict1={'a':1,'b':'2','c':3}\n",
    "\n",
    "A dictionary is an ordered collection of items.\n"
   ]
  },
  {
   "cell_type": "markdown",
   "id": "3e9029f7",
   "metadata": {},
   "source": [
    "## Q6. Can we create a nested dictionary? If so, please give an example by creating a simple one-level nested dictionary.\n",
    "\n",
    "Yes, we can create a nested dictionary in Python. Example of a simple one-level nested dictionary is as follows:-\n",
    "\n",
    "dict1={'a':12,'b':{'d':2,'e':9}}"
   ]
  },
  {
   "cell_type": "markdown",
   "id": "4653df20",
   "metadata": {},
   "source": [
    "## Q7. Using setdefault() method, create key named topics in the given dictionary and also add the value of the key as this list ['Python', 'Machine Learning’, 'Deep Learning']\n",
    "\n",
    "dict1 = {'language' : 'Python', 'course': 'Data Science Masters'}\n",
    "\n",
    "dict1.setdefault(\"topics\",['Python','Machine Learning’,'Deep Learning'])"
   ]
  },
  {
   "cell_type": "markdown",
   "id": "44bcba98",
   "metadata": {},
   "source": [
    "## Q8. What are the three view objects in dictionaries? Use the three in-built methods in python to display these three view objects for the given dictionary.\n",
    "\n",
    "### dict1 = {'Sport': 'Cricket' , 'Teams': ['India', 'Australia', 'England','South Africa', 'Sri Lanka', 'New Zealand']}\n",
    "\n",
    "The three view objects in dictionaries are keys, values and key-value pairs.\n",
    "\n",
    "Example for dict1:-\n",
    "\n",
    "print(list(dict1.values())) #values\n",
    "\n",
    "print(list(dict1.keys())) #keys\n",
    "\n",
    "print(list(dict1.items())) #key-value pairs"
   ]
  }
 ],
 "metadata": {
  "kernelspec": {
   "display_name": "Python 3 (ipykernel)",
   "language": "python",
   "name": "python3"
  },
  "language_info": {
   "codemirror_mode": {
    "name": "ipython",
    "version": 3
   },
   "file_extension": ".py",
   "mimetype": "text/x-python",
   "name": "python",
   "nbconvert_exporter": "python",
   "pygments_lexer": "ipython3",
   "version": "3.10.10"
  }
 },
 "nbformat": 4,
 "nbformat_minor": 5
}
